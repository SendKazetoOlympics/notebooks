{
 "cells": [
  {
   "cell_type": "code",
   "execution_count": 15,
   "metadata": {},
   "outputs": [],
   "source": [
    "import minio\n",
    "import os\n",
    "import cv2 as cv\n",
    "import matplotlib.pyplot as plt\n",
    "\n",
    "minio_client = minio.Minio(\n",
    "    os.environ['MINIO_ENDPOINT'],\n",
    "    access_key=os.environ['MINIO_ACCESS_KEY'],\n",
    "    secret_key=os.environ['MINIO_SECRET_KEY'],\n",
    "    secure=False\n",
    ")"
   ]
  },
  {
   "cell_type": "code",
   "execution_count": 58,
   "metadata": {},
   "outputs": [],
   "source": [
    "class MultiCam:\n",
    "    def __init__(self, video_list):\n",
    "        self.video_list = video_list\n",
    "        self.cap_list: list[cv.VideoCapture] = []\n",
    "        for video in video_list:\n",
    "            self.cap_list.append(cv.VideoCapture(video))\n",
    "        self.frame_count = [int(cap.get(cv.CAP_PROP_FRAME_COUNT)) for cap in self.cap_list]\n",
    "\n",
    "    def seek(self, frame, sync=True):\n",
    "        max_frame = max(self.frame_count)\n",
    "        if frame > max_frame:\n",
    "            print('Frame number exceeds the max frame count')\n",
    "            return\n",
    "\n",
    "        if sync:\n",
    "            for idx, cap in enumerate(self.cap_list):\n",
    "                frame_diff = max_frame - self.frame_count[idx]\n",
    "                if frame_diff > 0:\n",
    "                    frame_diff -= 1\n",
    "                cap.set(cv.CAP_PROP_POS_FRAMES, frame - frame_diff)\n",
    "\n",
    "        else:            \n",
    "            for cap in self.cap_list:                \n",
    "                if frame > self.frame_count[self.cap_list.index(cap)]:\n",
    "                    print('Frame number exceeds the total frame count')\n",
    "                    return\n",
    "                cap.set(cv.CAP_PROP_POS_FRAMES, frame)\n",
    "\n",
    "    def get_frame(self, frame):\n",
    "        self.seek(frame)\n",
    "        frame_list = []\n",
    "        for cap in self.cap_list:\n",
    "            ret, frame = cap.read()\n",
    "            frame = cv.cvtColor(frame, cv.COLOR_BGR2RGB)\n",
    "            frame_list.append(frame)\n",
    "        return frame_list\n",
    "\n",
    "    def release(self):\n",
    "        for cap in self.cap_list:\n",
    "            cap.release()\n",
    "\n",
    "def plot_frame(frame_list, height=10, landscape=False):\n",
    "    # Plot 3 images side by side without axis and any gap between them\n",
    "    if landscape:\n",
    "        fig, ax = plt.subplots(1, len(frame_list),figsize=(height*1920/1080*3.1, height))\n",
    "    else:\n",
    "        fig, ax = plt.subplots(len(frame_list), 1, figsize=(height*1920/1080, height*3))\n",
    "    for idx, frame in enumerate(frame_list):\n",
    "        ax[idx].imshow(frame)\n",
    "        ax[idx].axis('off')\n",
    "        ax[idx].set_aspect('auto')\n",
    "        ax[idx].set_xticks([])\n",
    "        ax[idx].set_yticks([])\n",
    "    fig.tight_layout()\n",
    "    plt.show()"
   ]
  },
  {
   "cell_type": "code",
   "execution_count": 65,
   "metadata": {},
   "outputs": [],
   "source": [
    "bucket = 'highjump'\n",
    "path = 'raw_data/2025/03/14/run14/'\n",
    "download_path = 'data/videos/'\n",
    "\n",
    "video_list = list(minio_client.list_objects(bucket, path))\n",
    "\n",
    "for video in video_list:\n",
    "    minio_client.fget_object(bucket, video.object_name, download_path + video.object_name.split('/')[-1])"
   ]
  },
  {
   "cell_type": "code",
   "execution_count": null,
   "metadata": {},
   "outputs": [],
   "source": [
    "multi_cam = MultiCam([download_path + 'sidecam.mp4', download_path + 'curve_cam.mp4', download_path + 'centercam.mp4'])\n",
    "\n",
    "print(multi_cam.frame_count)\n",
    "frame_list_1 = multi_cam.get_frame(3865)\n",
    "plot_frame(frame_list_1, 12)"
   ]
  }
 ],
 "metadata": {
  "kernelspec": {
   "display_name": ".venv",
   "language": "python",
   "name": "python3"
  },
  "language_info": {
   "codemirror_mode": {
    "name": "ipython",
    "version": 3
   },
   "file_extension": ".py",
   "mimetype": "text/x-python",
   "name": "python",
   "nbconvert_exporter": "python",
   "pygments_lexer": "ipython3",
   "version": "3.11.11"
  }
 },
 "nbformat": 4,
 "nbformat_minor": 2
}
